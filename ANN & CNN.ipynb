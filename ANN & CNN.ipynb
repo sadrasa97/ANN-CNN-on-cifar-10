{
  "nbformat": 4,
  "nbformat_minor": 0,
  "metadata": {
    "colab": {
      "name": "Untitled5.ipynb",
      "provenance": [],
      "authorship_tag": "ABX9TyM/joeh1lvLdL+3ABuCERf0",
      "include_colab_link": true
    },
    "kernelspec": {
      "name": "python3",
      "display_name": "Python 3"
    },
    "language_info": {
      "name": "python"
    },
    "accelerator": "GPU",
    "gpuClass": "standard"
  },
  "cells": [
    {
      "cell_type": "markdown",
      "metadata": {
        "id": "view-in-github",
        "colab_type": "text"
      },
      "source": [
        "<a href=\"https://colab.research.google.com/github/sadrasa97/sadrasa97/blob/main/ANN%20%26%20CNN.ipynb\" target=\"_parent\"><img src=\"https://colab.research.google.com/assets/colab-badge.svg\" alt=\"Open In Colab\"/></a>"
      ]
    },
    {
      "cell_type": "code",
      "execution_count": 1,
      "metadata": {
        "id": "-DIXxIbndWuS"
      },
      "outputs": [],
      "source": [
        "from keras.datasets import cifar10\n",
        "import numpy as np\n",
        "import matplotlib.pyplot as plt\n"
      ]
    },
    {
      "cell_type": "code",
      "source": [
        ""
      ],
      "metadata": {
        "id": "JHQr0GZPs-o8"
      },
      "execution_count": 1,
      "outputs": []
    },
    {
      "cell_type": "code",
      "source": [
        "(x_train,y_train),(x_test,y_test)=cifar10.load_data()"
      ],
      "metadata": {
        "colab": {
          "base_uri": "https://localhost:8080/"
        },
        "id": "Wa1kay0Td8bN",
        "outputId": "730a1310-466f-4c77-ba5b-e3e0bddf1e4c"
      },
      "execution_count": null,
      "outputs": [
        {
          "output_type": "stream",
          "name": "stdout",
          "text": [
            "Downloading data from https://www.cs.toronto.edu/~kriz/cifar-10-python.tar.gz\n",
            " 34168832/170498071 [=====>........................] - ETA: 14s"
          ]
        }
      ]
    },
    {
      "cell_type": "code",
      "source": [
        "print(x_train.shape)\n",
        "print(y_train.shape)\n",
        "print(x_test.shape)"
      ],
      "metadata": {
        "colab": {
          "base_uri": "https://localhost:8080/"
        },
        "id": "EP5uhQmweKOl",
        "outputId": "76ec91d1-6e48-417f-8a28-c4511ef17cd4"
      },
      "execution_count": 14,
      "outputs": [
        {
          "output_type": "stream",
          "name": "stdout",
          "text": [
            "(50000, 32, 32, 3)\n",
            "(50000, 1)\n",
            "(10000, 32, 32, 3)\n"
          ]
        }
      ]
    },
    {
      "cell_type": "code",
      "source": [
        "plt.imshow(x_train[0])\n",
        "print(y_train[0])"
      ],
      "metadata": {
        "id": "BssLMV6tefw0"
      },
      "execution_count": null,
      "outputs": []
    },
    {
      "cell_type": "markdown",
      "source": [
        "#ANN"
      ],
      "metadata": {
        "id": "bhvOrz6xfBCO"
      }
    },
    {
      "cell_type": "code",
      "source": [
        "x_train_final=x_train.reshape(-1,32*32*3)/255\n",
        "x_test_final=x_test.reshape(-1,32*32*3)/255"
      ],
      "metadata": {
        "id": "-0fFSXFMe6Ds"
      },
      "execution_count": null,
      "outputs": []
    },
    {
      "cell_type": "code",
      "source": [
        "print(x_train_final.shape)"
      ],
      "metadata": {
        "id": "V9fA3AcXfoUH"
      },
      "execution_count": null,
      "outputs": []
    },
    {
      "cell_type": "code",
      "source": [
        "from tensorflow.keras.utils import to_categorical\n",
        "y_train_cat=to_categorical(y_train)\n",
        "y_test_cat=to_categorical(y_test)"
      ],
      "metadata": {
        "id": "MZ6O968Vfugf"
      },
      "execution_count": null,
      "outputs": []
    },
    {
      "cell_type": "code",
      "source": [
        "from keras.models import Sequential\n",
        "from keras.layers import Dense,Input"
      ],
      "metadata": {
        "id": "aFye6XgigibS"
      },
      "execution_count": null,
      "outputs": []
    },
    {
      "cell_type": "code",
      "source": [
        "import tensorflow as tf\n",
        "from tensorflow import keras\n",
        "from tensorflow.keras import layers"
      ],
      "metadata": {
        "id": "o5R8F8h_tBji"
      },
      "execution_count": null,
      "outputs": []
    },
    {
      "cell_type": "code",
      "source": [
        ""
      ],
      "metadata": {
        "id": "KGdKgVsbtBgP"
      },
      "execution_count": null,
      "outputs": []
    },
    {
      "cell_type": "code",
      "source": [
        "model=Sequential()\n",
        "model.add(Input(shape=(32*32*3)))\n",
        "model.add(Dense(512,activation='relu'))\n",
        "model.add(Dense(512,activation='relu'))\n",
        "model.add(Dense(1024,activation='relu'))\n",
        "model.add(Dense(10,activation='softmax'))\n"
      ],
      "metadata": {
        "id": "1OyKruFlqhMd"
      },
      "execution_count": null,
      "outputs": []
    },
    {
      "cell_type": "code",
      "source": [
        "model.compile(loss='categorical_crossentropy',optimizer='adam',metrics=['accuracy'])"
      ],
      "metadata": {
        "id": "Kgxn5CMUv97e"
      },
      "execution_count": null,
      "outputs": []
    },
    {
      "cell_type": "code",
      "source": [
        "model.summary()"
      ],
      "metadata": {
        "id": "8eVVKJ9RyqXe"
      },
      "execution_count": null,
      "outputs": []
    },
    {
      "cell_type": "code",
      "source": [
        "batch_size=128\n",
        "epochs=30\n",
        "model.fit(x_train_final,y_train_cat,\n",
        "          batch_size=batch_size,\n",
        "          epochs=epochs,\n",
        "          verbose=1,\n",
        "          validation_data=(x_test_final,y_test_cat))"
      ],
      "metadata": {
        "id": "_EEc3fHByt1i"
      },
      "execution_count": null,
      "outputs": []
    },
    {
      "cell_type": "code",
      "source": [
        ""
      ],
      "metadata": {
        "id": "PoKGmMal07Zf"
      },
      "execution_count": null,
      "outputs": []
    },
    {
      "cell_type": "markdown",
      "source": [
        "#CNN\n"
      ],
      "metadata": {
        "id": "5IPAR0_h1Awj"
      }
    },
    {
      "cell_type": "code",
      "source": [
        "x_train_final=x_train/255\n",
        "x_test_final=x_test/255\n"
      ],
      "metadata": {
        "id": "Ed0TmcGn1GeQ"
      },
      "execution_count": 15,
      "outputs": []
    },
    {
      "cell_type": "code",
      "source": [
        "from tensorflow.keras.utils import to_categorical \n",
        "y_train_cat=to_categorical(y_train)\n",
        "y_test_cat=to_categorical(y_test)\n"
      ],
      "metadata": {
        "id": "v_w4Kojf1W2U"
      },
      "execution_count": 16,
      "outputs": []
    },
    {
      "cell_type": "code",
      "source": [
        "from keras.models import Sequential\n",
        "from keras.layers import Dense,Flatten,Conv2D,MaxPool2D\n",
        "model=Sequential()\n",
        "model.add(Conv2D(filters=32,kernel_size=(3,3),activation='relu',input_shape=(32,32,3)))\n",
        "model.add(Conv2D(filters=32,kernel_size=(3,3),activation='relu'))\n",
        "model.add(Conv2D(filters=32,kernel_size=(3,3),activation='relu'))\n",
        "model.add(Conv2D(filters=32,kernel_size=(3,3),activation='relu'))\n",
        "model.add(MaxPool2D(pool_size=(2,2)))\n",
        "model.add(Flatten())\n",
        "model.add(Dense(64,activation='relu'))\n",
        "model.add(Dense(32,activation='relu'))\n",
        "model.add(Dense(10,activation='softmax'))\n",
        "model.compile(loss='categorical_crossentropy',optimizer='adam',metrics=['accuracy'])\n"
      ],
      "metadata": {
        "id": "Z_RVIT1l6kZF"
      },
      "execution_count": 17,
      "outputs": []
    },
    {
      "cell_type": "code",
      "source": [
        "model.summary()"
      ],
      "metadata": {
        "colab": {
          "base_uri": "https://localhost:8080/"
        },
        "id": "TsMf7Bjj9NPr",
        "outputId": "e9c43f32-7321-4d1d-fb53-10c7fbd4d3b0"
      },
      "execution_count": 18,
      "outputs": [
        {
          "output_type": "stream",
          "name": "stdout",
          "text": [
            "Model: \"sequential_1\"\n",
            "_________________________________________________________________\n",
            " Layer (type)                Output Shape              Param #   \n",
            "=================================================================\n",
            " conv2d (Conv2D)             (None, 30, 30, 32)        896       \n",
            "                                                                 \n",
            " conv2d_1 (Conv2D)           (None, 28, 28, 32)        9248      \n",
            "                                                                 \n",
            " conv2d_2 (Conv2D)           (None, 26, 26, 32)        9248      \n",
            "                                                                 \n",
            " conv2d_3 (Conv2D)           (None, 24, 24, 32)        9248      \n",
            "                                                                 \n",
            " max_pooling2d (MaxPooling2D  (None, 12, 12, 32)       0         \n",
            " )                                                               \n",
            "                                                                 \n",
            " flatten (Flatten)           (None, 4608)              0         \n",
            "                                                                 \n",
            " dense_4 (Dense)             (None, 64)                294976    \n",
            "                                                                 \n",
            " dense_5 (Dense)             (None, 32)                2080      \n",
            "                                                                 \n",
            " dense_6 (Dense)             (None, 10)                330       \n",
            "                                                                 \n",
            "=================================================================\n",
            "Total params: 326,026\n",
            "Trainable params: 326,026\n",
            "Non-trainable params: 0\n",
            "_________________________________________________________________\n"
          ]
        }
      ]
    },
    {
      "cell_type": "code",
      "source": [
        "batch_size=128\n",
        "epochs=30\n",
        "model.fit(x_train_final,y_train_cat,\n",
        "          batch_size=batch_size,\n",
        "          epochs=epochs,\n",
        "          verbose=1,\n",
        "          validation_data=(x_test_final,y_test_cat))"
      ],
      "metadata": {
        "colab": {
          "base_uri": "https://localhost:8080/"
        },
        "id": "_VzkL8aG9bdp",
        "outputId": "0cd226db-0d00-4e0c-d2d3-1a0f0efd3bc7"
      },
      "execution_count": 19,
      "outputs": [
        {
          "output_type": "stream",
          "name": "stdout",
          "text": [
            "Epoch 1/30\n",
            "391/391 [==============================] - 15s 15ms/step - loss: 1.6620 - accuracy: 0.3926 - val_loss: 1.3672 - val_accuracy: 0.5045\n",
            "Epoch 2/30\n",
            "391/391 [==============================] - 5s 13ms/step - loss: 1.2817 - accuracy: 0.5386 - val_loss: 1.1899 - val_accuracy: 0.5659\n",
            "Epoch 3/30\n",
            "391/391 [==============================] - 5s 13ms/step - loss: 1.0995 - accuracy: 0.6114 - val_loss: 1.0933 - val_accuracy: 0.6086\n",
            "Epoch 4/30\n",
            "391/391 [==============================] - 6s 15ms/step - loss: 0.9795 - accuracy: 0.6566 - val_loss: 1.0208 - val_accuracy: 0.6384\n",
            "Epoch 5/30\n",
            "391/391 [==============================] - 5s 13ms/step - loss: 0.9018 - accuracy: 0.6861 - val_loss: 1.0010 - val_accuracy: 0.6463\n",
            "Epoch 6/30\n",
            "391/391 [==============================] - 5s 14ms/step - loss: 0.8406 - accuracy: 0.7071 - val_loss: 0.9698 - val_accuracy: 0.6691\n",
            "Epoch 7/30\n",
            "391/391 [==============================] - 5s 13ms/step - loss: 0.7846 - accuracy: 0.7259 - val_loss: 1.0158 - val_accuracy: 0.6507\n",
            "Epoch 8/30\n",
            "391/391 [==============================] - 5s 13ms/step - loss: 0.7333 - accuracy: 0.7460 - val_loss: 0.9662 - val_accuracy: 0.6688\n",
            "Epoch 9/30\n",
            "391/391 [==============================] - 5s 13ms/step - loss: 0.6918 - accuracy: 0.7571 - val_loss: 0.9948 - val_accuracy: 0.6632\n",
            "Epoch 10/30\n",
            "391/391 [==============================] - 5s 14ms/step - loss: 0.6358 - accuracy: 0.7786 - val_loss: 1.0235 - val_accuracy: 0.6617\n",
            "Epoch 11/30\n",
            "391/391 [==============================] - 5s 14ms/step - loss: 0.5981 - accuracy: 0.7894 - val_loss: 1.0503 - val_accuracy: 0.6626\n",
            "Epoch 12/30\n",
            "391/391 [==============================] - 5s 14ms/step - loss: 0.5478 - accuracy: 0.8082 - val_loss: 1.0814 - val_accuracy: 0.6538\n",
            "Epoch 13/30\n",
            "391/391 [==============================] - 5s 13ms/step - loss: 0.5103 - accuracy: 0.8222 - val_loss: 1.1511 - val_accuracy: 0.6504\n",
            "Epoch 14/30\n",
            "391/391 [==============================] - 5s 13ms/step - loss: 0.4671 - accuracy: 0.8366 - val_loss: 1.2001 - val_accuracy: 0.6493\n",
            "Epoch 15/30\n",
            "391/391 [==============================] - 5s 14ms/step - loss: 0.4318 - accuracy: 0.8496 - val_loss: 1.3086 - val_accuracy: 0.6424\n",
            "Epoch 16/30\n",
            "391/391 [==============================] - 5s 13ms/step - loss: 0.3979 - accuracy: 0.8609 - val_loss: 1.3098 - val_accuracy: 0.6445\n",
            "Epoch 17/30\n",
            "391/391 [==============================] - 5s 13ms/step - loss: 0.3574 - accuracy: 0.8737 - val_loss: 1.4287 - val_accuracy: 0.6440\n",
            "Epoch 18/30\n",
            "391/391 [==============================] - 5s 14ms/step - loss: 0.3284 - accuracy: 0.8849 - val_loss: 1.4998 - val_accuracy: 0.6449\n",
            "Epoch 19/30\n",
            "391/391 [==============================] - 5s 13ms/step - loss: 0.3003 - accuracy: 0.8940 - val_loss: 1.5790 - val_accuracy: 0.6414\n",
            "Epoch 20/30\n",
            "391/391 [==============================] - 5s 13ms/step - loss: 0.2762 - accuracy: 0.9018 - val_loss: 1.8373 - val_accuracy: 0.6129\n",
            "Epoch 21/30\n",
            "391/391 [==============================] - 5s 14ms/step - loss: 0.2542 - accuracy: 0.9098 - val_loss: 1.8172 - val_accuracy: 0.6314\n",
            "Epoch 22/30\n",
            "391/391 [==============================] - 5s 14ms/step - loss: 0.2347 - accuracy: 0.9160 - val_loss: 1.8728 - val_accuracy: 0.6373\n",
            "Epoch 23/30\n",
            "391/391 [==============================] - 5s 13ms/step - loss: 0.2065 - accuracy: 0.9275 - val_loss: 1.9845 - val_accuracy: 0.6335\n",
            "Epoch 24/30\n",
            "391/391 [==============================] - 5s 14ms/step - loss: 0.1975 - accuracy: 0.9290 - val_loss: 2.1116 - val_accuracy: 0.6289\n",
            "Epoch 25/30\n",
            "391/391 [==============================] - 5s 14ms/step - loss: 0.1825 - accuracy: 0.9354 - val_loss: 2.2785 - val_accuracy: 0.6293\n",
            "Epoch 26/30\n",
            "391/391 [==============================] - 5s 13ms/step - loss: 0.1650 - accuracy: 0.9418 - val_loss: 2.2976 - val_accuracy: 0.6306\n",
            "Epoch 27/30\n",
            "391/391 [==============================] - 5s 14ms/step - loss: 0.1600 - accuracy: 0.9417 - val_loss: 2.5067 - val_accuracy: 0.6259\n",
            "Epoch 28/30\n",
            "391/391 [==============================] - 5s 14ms/step - loss: 0.1490 - accuracy: 0.9470 - val_loss: 2.5525 - val_accuracy: 0.6224\n",
            "Epoch 29/30\n",
            "391/391 [==============================] - 5s 13ms/step - loss: 0.1457 - accuracy: 0.9475 - val_loss: 2.5760 - val_accuracy: 0.6171\n",
            "Epoch 30/30\n",
            "391/391 [==============================] - 5s 13ms/step - loss: 0.1322 - accuracy: 0.9534 - val_loss: 2.5137 - val_accuracy: 0.6264\n"
          ]
        },
        {
          "output_type": "execute_result",
          "data": {
            "text/plain": [
              "<keras.callbacks.History at 0x7f1e4e3a66d0>"
            ]
          },
          "metadata": {},
          "execution_count": 19
        }
      ]
    }
  ]
}